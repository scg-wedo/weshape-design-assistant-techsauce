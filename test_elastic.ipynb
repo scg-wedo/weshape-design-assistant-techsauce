{
 "cells": [
  {
   "cell_type": "code",
   "execution_count": 1,
   "metadata": {},
   "outputs": [],
   "source": [
    "import os\n",
    "from elasticsearch import Elasticsearch\n",
    "from dotenv import load_dotenv"
   ]
  },
  {
   "cell_type": "code",
   "execution_count": null,
   "metadata": {},
   "outputs": [
    {
     "name": "stdout",
     "output_type": "stream",
     "text": [
      "Searching for: Elasticsearch Python\n",
      "Score: 1.51\n",
      "Results: [{'id': 2, 'title': 'Python Integration', 'content': 'You can use the Elasticsearch Python client to interact with Elasticsearch.'}]\n"
     ]
    }
   ],
   "source": [
    "class SearchAssistant:\n",
    "    def __init__(self):\n",
    "        # Load environment variables\n",
    "        load_dotenv()\n",
    "\n",
    "        # Read Elasticsearch host from .env or use default\n",
    "        self.es_host = os.getenv(\"ELASTICSEARCH_HOSTS\")\n",
    "\n",
    "        # Create Elasticsearch client without authentication (for local dev)\n",
    "        self.es_client = Elasticsearch(self.es_host)\n",
    "\n",
    "        # Initialize other variables\n",
    "        self.rank = []\n",
    "        self.rank_dict = {}\n",
    "        self.ori_dict = {}\n",
    "        self.tran_dict = {}\n",
    "        self.result = []\n",
    "\n",
    "    def semantic_search_elasticsearch_langchain(self, es_client, query):\n",
    "        \"\"\"\n",
    "        Replace this with your actual semantic search implementation.\n",
    "        Here’s a basic full-text search fallback for demonstration.\n",
    "        \"\"\"\n",
    "        index_name = \"my_local_index\"  # Replace with your actual index\n",
    "\n",
    "        response = es_client.search(\n",
    "            index=index_name,\n",
    "            query={\n",
    "                \"match\": {\n",
    "                    \"content\": query  # Replace 'content' with the correct field\n",
    "                }\n",
    "            }\n",
    "        )\n",
    "        return response\n",
    "\n",
    "    def call_assistant(self, messages):\n",
    "        print(f\"Searching for: {messages}\")\n",
    "        search_results = self.semantic_search_elasticsearch_langchain(self.es_client, messages)\n",
    "\n",
    "        for hit in search_results['hits']['hits']:\n",
    "            if hit['_score'] >= 1.00:\n",
    "                print(f\"Score: {hit['_score']:.2f}\")\n",
    "                self.result.append(hit['_source'])  # Or extract 'image_base64' if needed\n",
    "\n",
    "        return self.result\n",
    "\n",
    "# Example usage:\n",
    "if __name__ == \"__main__\":\n",
    "    assistant = SearchAssistant()\n",
    "    results = assistant.call_assistant(\"Elasticsearch Python\")\n",
    "    print(\"Results:\", results)\n"
   ]
  },
  {
   "cell_type": "code",
   "execution_count": null,
   "metadata": {},
   "outputs": [],
   "source": []
  }
 ],
 "metadata": {
  "kernelspec": {
   "display_name": "ds",
   "language": "python",
   "name": "python3"
  },
  "language_info": {
   "codemirror_mode": {
    "name": "ipython",
    "version": 3
   },
   "file_extension": ".py",
   "mimetype": "text/x-python",
   "name": "python",
   "nbconvert_exporter": "python",
   "pygments_lexer": "ipython3",
   "version": "3.13.5"
  }
 },
 "nbformat": 4,
 "nbformat_minor": 2
}
