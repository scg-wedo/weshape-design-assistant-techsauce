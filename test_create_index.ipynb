{
 "cells": [
  {
   "cell_type": "code",
   "execution_count": 1,
   "metadata": {},
   "outputs": [],
   "source": [
    "import os\n",
    "import json\n",
    "from elasticsearch import Elasticsearch, helpers\n",
    "from dotenv import load_dotenv"
   ]
  },
  {
   "cell_type": "code",
   "execution_count": null,
   "metadata": {},
   "outputs": [
    {
     "name": "stdout",
     "output_type": "stream",
     "text": [
      "Connected!\n",
      "Index 'my_local_index' created\n",
      "Index already exists: my_local_index\n",
      "Documents indexed successfully.\n"
     ]
    }
   ],
   "source": [
    "\n",
    "# Load .env variables\n",
    "load_dotenv()\n",
    "es_host = os.getenv(\"ELASTICSEARCH_HOSTS\", \"http://localhost:9200\")\n",
    "index_name = \"my_local_index\"\n",
    "\n",
    "# Connect to Elasticsearch\n",
    "es = Elasticsearch(es_host)\n",
    "print(\"Connected!\" if es.ping() else \"Connection failed.\")\n",
    "\n",
    "# Check and create index\n",
    "if not es.indices.exists(index=index_name):\n",
    "    es.indices.create(index=index_name)\n",
    "    print(f\"Index '{index_name}' created\")\n",
    "else:\n",
    "    print(f\"Index '{index_name}' already exists\")\n",
    "\n",
    "# Step 2: Load data from local JSON file\n",
    "with open(\"data.json\", \"r\", encoding=\"utf-8\") as f:\n",
    "    data = json.load(f)\n",
    "\n",
    "# Step 3: Format data for bulk upload\n",
    "actions = [\n",
    "    {\n",
    "        \"_index\": index_name,\n",
    "        \"_id\": doc[\"id\"],\n",
    "        \"_source\": doc\n",
    "    }\n",
    "    for doc in data\n",
    "]\n",
    "\n",
    "# Step 4: Bulk index the data\n",
    "helpers.bulk(es, actions)\n",
    "print(\"Documents indexed successfully.\")\n"
   ]
  },
  {
   "cell_type": "code",
   "execution_count": 3,
   "metadata": {},
   "outputs": [
    {
     "name": "stdout",
     "output_type": "stream",
     "text": [
      "{'id': 1, 'title': 'Introduction to Elasticsearch', 'content': 'Elasticsearch is a distributed, RESTful search engine.'}\n",
      "{'id': 2, 'title': 'Python Integration', 'content': 'You can use the Elasticsearch Python client to interact with Elasticsearch.'}\n",
      "{'id': 3, 'title': 'Local Search', 'content': 'This document is stored and indexed locally for testing.'}\n"
     ]
    }
   ],
   "source": [
    "response = es.search(index=\"my_local_index\", size=5)  # adjust size as needed\n",
    "for hit in response[\"hits\"][\"hits\"]:\n",
    "    print(hit[\"_source\"])"
   ]
  },
  {
   "cell_type": "code",
   "execution_count": null,
   "metadata": {},
   "outputs": [],
   "source": [
    "from elasticsearch import Elasticsearch\n",
    "\n",
    "es = Elasticsearch(\"http://localhost:9200\")\n",
    "\n",
    "if es.indices.exists(index=\"my_local_index\"):\n",
    "    es.indices.delete(index=\"my_local_index\")\n",
    "    print(\"Index 'my_local_index' deleted.\")\n",
    "else:\n",
    "    print(\"Index 'my_local_index' does not exist.\")\n"
   ]
  }
 ],
 "metadata": {
  "kernelspec": {
   "display_name": "ds",
   "language": "python",
   "name": "python3"
  },
  "language_info": {
   "codemirror_mode": {
    "name": "ipython",
    "version": 3
   },
   "file_extension": ".py",
   "mimetype": "text/x-python",
   "name": "python",
   "nbconvert_exporter": "python",
   "pygments_lexer": "ipython3",
   "version": "3.13.5"
  }
 },
 "nbformat": 4,
 "nbformat_minor": 2
}
