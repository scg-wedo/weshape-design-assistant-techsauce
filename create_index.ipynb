{
 "cells": [
  {
   "cell_type": "code",
   "execution_count": 1,
   "metadata": {},
   "outputs": [],
   "source": [
    "import os\n",
    "import json\n",
    "from elasticsearch import Elasticsearch, helpers\n",
    "from dotenv import load_dotenv\n",
    "\n",
    "from langchain_google_vertexai.embeddings import VertexAIEmbeddings\n",
    "from langchain_community.vectorstores import ElasticsearchStore\n",
    "from langchain_core.documents import Document\n"
   ]
  },
  {
   "cell_type": "code",
   "execution_count": 2,
   "metadata": {},
   "outputs": [],
   "source": [
    "load_dotenv()\n",
    "\n",
    "es_host = os.getenv(\"ELASTICSEARCH_HOSTS\")\n",
    "es_client = Elasticsearch(es_host)"
   ]
  },
  {
   "cell_type": "code",
   "execution_count": 3,
   "metadata": {},
   "outputs": [
    {
     "name": "stderr",
     "output_type": "stream",
     "text": [
      "c:\\Users\\hcila\\.conda\\envs\\ds\\Lib\\site-packages\\vertexai\\_model_garden\\_model_garden_models.py:278: UserWarning: This feature is deprecated as of June 24, 2025 and will be removed on June 24, 2026. For details, see https://cloud.google.com/vertex-ai/generative-ai/docs/deprecations/genai-vertexai-sdk.\n",
      "  warning_logs.show_deprecation_warning()\n"
     ]
    }
   ],
   "source": [
    "os.environ[\"GOOGLE_APPLICATION_CREDENTIALS\"] = str(os.environ[\"GOOGLE_APPLICATION_CREDENTIALS_PATH\"])\n",
    "\n",
    "embeddings_model = VertexAIEmbeddings(\n",
    "    model_name=\"text-multilingual-embedding-002\",\n",
    "    project=os.getenv(\"PROJECT_ID\"),\n",
    "    location=os.getenv(\"LOCATION\"),\n",
    ")"
   ]
  },
  {
   "cell_type": "code",
   "execution_count": 4,
   "metadata": {},
   "outputs": [],
   "source": [
    "index_name = str(os.getenv(\"INDEX_NAME\"))\n",
    "dataset_folder = \"./datasets\"\n",
    "mapping_data_format = \"./product/new_tile.json\""
   ]
  },
  {
   "cell_type": "code",
   "execution_count": 5,
   "metadata": {},
   "outputs": [
    {
     "name": "stdout",
     "output_type": "stream",
     "text": [
      "\n",
      "--- Creating/Updating Index 'tiles' ---\n",
      "Creating index 'tiles' with the specified mapping...\n",
      "Index 'tiles' created successfully with mapping.\n",
      "\n",
      "--- Verifying Mapping for 'tiles' ---\n"
     ]
    }
   ],
   "source": [
    "with open(mapping_data_format) as f:\n",
    "    mapping = json.load(f)\n",
    "\n",
    "print(f\"\\n--- Creating/Updating Index '{index_name}' ---\")\n",
    "if es_client.indices.exists(index=index_name):\n",
    "    print(f\"\\nConnected to existing index '{index_name}'.\")\n",
    "else:\n",
    "    print(f\"Creating index '{index_name}' with the specified mapping...\")\n",
    "    try:\n",
    "        es_client.indices.create(index=index_name, body=mapping)\n",
    "        print(f\"Index '{index_name}' created successfully with mapping.\")\n",
    "    except Exception as e:\n",
    "        print(f\"Error creating index: {e}\")\n",
    "\n",
    "# # Verify the created mapping\n",
    "print(f\"\\n--- Verifying Mapping for '{index_name}' ---\")\n",
    "retrieved_mapping = es_client.indices.get_mapping(index=index_name)"
   ]
  },
  {
   "cell_type": "code",
   "execution_count": 6,
   "metadata": {},
   "outputs": [],
   "source": [
    "def generate_embedding(text: str) -> list:\n",
    "    \"\"\"\n",
    "    Generates a dense vector embedding for a given text using VertexAIEmbeddings.\n",
    "    \"\"\"\n",
    "    try:\n",
    "        # VertexAIEmbeddings.embed_query returns a list of floats (the vector)\n",
    "        embedding_vector = embeddings_model.embed_query(text)\n",
    "        return embedding_vector\n",
    "    except Exception as e:\n",
    "        print(f\"Error generating embedding for text '{text}': {e}\")\n",
    "        return [0.0] * 768 # Return a zero vector or handle as appropriate for error\n"
   ]
  },
  {
   "cell_type": "code",
   "execution_count": 7,
   "metadata": {},
   "outputs": [
    {
     "name": "stdout",
     "output_type": "stream",
     "text": [
      "Index 'tiles' refreshed.\n"
     ]
    }
   ],
   "source": [
    "json_folder = dataset_folder\n",
    "for filename in os.listdir(json_folder):\n",
    "    if filename.endswith('.json'):\n",
    "        #filejson\n",
    "        json_path = os.path.join(json_folder, filename)\n",
    "        try:\n",
    "            with open(json_path, 'r', encoding='utf-8') as f:\n",
    "                data = json.load(f)\n",
    "                combined_text = \" \".join([data[\"Surface_applicability\"],\n",
    "                                          data[\"Species\"],\n",
    "                                          data[\"Color\"],\n",
    "                                          data[\"Groove_size\"],\n",
    "                                          data[\"description\"],\n",
    "                                          data[\"style\"],]).strip()\n",
    "                data[\"embedding\"] = generate_embedding(combined_text)\n",
    "                # print(data[\"embedding\"])\n",
    "                es_client.index(index=index_name, document=data)\n",
    "        except Exception as e:\n",
    "            print(e)\n",
    "es_client.indices.refresh(index=index_name)\n",
    "print(f\"Index '{index_name}' refreshed.\")"
   ]
  },
  {
   "cell_type": "code",
   "execution_count": 8,
   "metadata": {},
   "outputs": [],
   "source": [
    "# response = es_client.search(index=index_name, size=1)  # adjust size as needed\n",
    "# for hit in response[\"hits\"][\"hits\"]:\n",
    "#     print(f\"  ID: {hit['_id']} SKU: {hit['_source']['SKU']}, Name: {hit['_source']['Name']} Score: {hit['_score']:.2f}, Description: {hit['_source']['description']}\")"
   ]
  },
  {
   "cell_type": "code",
   "execution_count": 9,
   "metadata": {},
   "outputs": [
    {
     "name": "stdout",
     "output_type": "stream",
     "text": [
      "data rows: 30\n",
      "  ID: K9wwyZcBZASVAhmA1eF3 SKU: Z21GXA40100147C1 Name: FT VILLE (II) BEIGE 12x12 PM, Description: The tile features a soft, creamy beige color with a subtle, slightly textured surface. It appears to have a matte finish, giving it a natural and understated look. The overall impression is one of warmth and simplicity, making it suitable for various interior applications./ กระเบื้องมีสีเบจอ่อนนุ่มและมีพื้นผิวที่ละเอียดอ่อนเล็กน้อย ดูเหมือนว่าจะมีผิวเคลือบด้านทำให้ดูเป็นธรรมชาติและเรียบง่าย ความประทับใจโดยรวมคือความอบอุ่นและความเรียบง่ายทำให้เหมาะสำหรับการใช้งานภายในที่หลากหลาย\n",
      "  ID: LNwwyZcBZASVAhmA1-EF SKU: Z21GXB31010181C1 Name: WT BRICKA(II) WHITE 8X12 PM, Description: The tile is white with a subtle, textured surface featuring a linear pattern that adds depth without being overwhelming. The rectangular shape and clean lines give it a modern and versatile look. / กระเบื้องสีขาวที่มีพื้นผิวเป็นลายนูนเล็กน้อย มีลวดลายเส้นตรงที่เพิ่มความลึกโดยไม่ทำให้ดูลายตา รูปทรงสี่เหลี่ยมผืนผ้าและเส้นสายที่สะอาดตาทำให้กระเบื้องดูทันสมัยและใช้งานได้หลากหลาย\n",
      "  ID: ItwwyZcBZASVAhmAv-GI SKU: Z21GXA29100147B1 Name: FT/WT ECO-TERRA BONE 20X20 PM, Description: The tile image features a smooth, matte surface with a subtle, neutral gray color. The overall appearance is clean and minimalist, making it suitable for various interior design applications./ ภาพกระเบื้องแสดงพื้นผิวที่เรียบและด้านด้วยสีเทาอ่อนที่เป็นกลาง ลักษณะโดยรวมดูสะอาดตาและเรียบง่าย ทำให้เหมาะสำหรับการใช้งานออกแบบภายในที่หลากหลาย\n",
      "  ID: I9wwyZcBZASVAhmAwuHq SKU: Z21GXA29100168B1 Name: FT/WT ECO-TERRA MUDDY 20X20 PM, Description: The tile features a consistent brown color with a slightly rough surface, giving it a natural and earthy appearance. The texture includes subtle variations that add depth and visual interest, making it suitable for creating a warm and inviting atmosphere./ กระเบื้องมีสีน้ำตาลสม่ำเสมอพร้อมพื้นผิวที่ขรุขระเล็กน้อย ทำให้มีรูปลักษณ์ที่เป็นธรรมชาติและเหมือนดิน พื้นผิวประกอบด้วยรูปแบบที่แตกต่างกันเล็กน้อยซึ่งเพิ่มความลึกและความน่าสนใจทางสายตา ทำให้เหมาะสำหรับการสร้างบรรยากาศที่อบอุ่นและน่าดึงดูด\n",
      "  ID: KdwwyZcBZASVAhmA0OGp SKU: Z21GXA40100023C1 Name: FT BELLINGEN (II) ASH 12x12 PM, Description: The tile image features a concrete-like surface with a subtle texture and a muted gray color. The surface appears to be matte, giving it a natural and understated look. The overall impression is one of simplicity and industrial elegance./ ภาพกระเบื้องแสดงพื้นผิวคล้ายคอนกรีตที่มีพื้นผิวละเอียดอ่อนและสีเทาด้าน พื้นผิวดูเหมือนจะเป็นแบบด้าน ทำให้ดูเป็นธรรมชาติและเรียบง่าย ความประทับใจโดยรวมคือความเรียบง่ายและความสง่างามแบบอุตสาหกรรม\n",
      "  ID: KtwwyZcBZASVAhmA0uF1 SKU: Z21GXA40100146C1 Name: FT VILLE (II) IVORY 12x12 PM, Description: The tile image features a solid, light beige color with a smooth, matte surface. It appears to be a simple and versatile tile suitable for various interior applications. / ภาพกระเบื้องแสดงสีเบจอ่อนที่เรียบง่าย มีพื้นผิวที่เรียบและด้าน ดูเหมือนจะเป็นกระเบื้องที่เรียบง่ายและใช้งานได้หลากหลาย เหมาะสำหรับการใช้งานภายในที่หลากหลาย\n",
      "  ID: MNwwyZcBZASVAhmA3OFw SKU: Z21GXB38010241B1 Name: WT POEM WHITE (HYG) 25X40 PM, Description: The tile image features a delicate, light gray floral pattern scattered across a white background with subtle, swirling lines. The overall effect is soft and airy, creating a serene and calming visual texture. / ภาพกระเบื้องนี้มีลวดลายดอกไม้สีเทาอ่อนที่ละเอียดอ่อนกระจายอยู่บนพื้นหลังสีขาวพร้อมเส้นสายที่หมุนวนอย่างละเอียด ผลลัพธ์โดยรวมคือความนุ่มนวลและโปร่งสบาย สร้างพื้นผิวภาพที่เงียบสงบและผ่อนคลาย\n",
      "  ID: MdwwyZcBZASVAhmA3eHO SKU: Z21UXA48010061D1 Name: FT ULYSSES WHITE 16X16 PM, Description: The tile features a predominantly white surface with striking gray veining that mimics the look of natural marble. The veining patterns are organic and dynamic, adding depth and visual interest to the tile. The overall impression is one of elegance and sophistication, suitable for creating a luxurious and bright space./ กระเบื้องมีพื้นผิวสีขาวเป็นส่วนใหญ่ มีเส้นสายสีเทาที่โดดเด่นซึ่งเลียนแบบรูปลักษณ์ของหินอ่อนธรรมชาติ ลวดลายเส้นสายเป็นแบบออร์แกนิกและไดนามิก เพิ่มความลึกและความน่าสนใจให้กับกระเบื้อง ความประทับใจโดยรวมคือความสง่างามและความซับซ้อน เหมาะสําหรับการสร้างพื้นที่ที่หรูหราและสดใส\n",
      "  ID: MtwwyZcBZASVAhmA3-FF SKU: Z21UXA48100009A1 Name: FT LATTICE CHARCOAL GREY 16x16 PM, Description: The tile image features a dark gray color with a subtle grid-like texture on the lower half and vertical lines on the upper half. The surface appears to be matte, providing a modern and understated look. Overall, the tile has a minimalist and industrial feel, suitable for contemporary interior designs./ ภาพกระเบื้องมีสีเทาเข้ม มีพื้นผิวคล้ายตารางเล็กๆ ในส่วนล่าง และมีเส้นแนวตั้งในส่วนบน พื้นผิวดูเหมือนจะเป็นแบบด้าน ทำให้ดูทันสมัยและเรียบง่าย โดยรวมแล้ว กระเบื้องนี้ให้ความรู้สึกแบบมินิมอลและอินดัสเทรียล เหมาะสำหรับการออกแบบภายในร่วมสมัย\n",
      "  ID: JNwwyZcBZASVAhmAxOFn SKU: Z21GXA29100173B1 Name: FT/WT ECO-TERRA GREY 20X20 PM, Description: The tile image features a consistent gray color with a slightly rough surface, giving it a natural and understated appearance. The texture is subtle, with minor variations that add depth without being overly distracting. It would be suitable for creating a modern, minimalist aesthetic.\n",
      "/ ภาพกระเบื้องมีสีเทาที่สม่ำเสมอพร้อมพื้นผิวที่ขรุขระเล็กน้อย ทำให้ดูเป็นธรรมชาติและเรียบง่าย พื้นผิวมีความละเอียดอ่อน โดยมีการเปลี่ยนแปลงเล็กน้อยที่เพิ่มความลึกโดยไม่ทำให้เสียสมาธิมากเกินไป เหมาะสำหรับการสร้างสุนทรียภาพที่ทันสมัยและเรียบง่าย\n",
      "  ID: LdwwyZcBZASVAhmA2OFV SKU: Z21GXB31010183C1 Name: WT BRICKA(II) GREY 8X12 PM, Description: The tile features a subtle, textured surface with alternating sections of vertical and diagonal lines, creating a visually interesting pattern. The color is a soft, muted white, giving it a clean and modern look. The overall effect is understated yet sophisticated, making it suitable for various interior applications./ กระเบื้องมีพื้นผิวที่ละเอียดอ่อน โดยมีส่วนที่เป็นเส้นแนวตั้งและแนวทแยงสลับกัน สร้างลวดลายที่น่าสนใจ สีเป็นสีขาวนวล ให้รูปลักษณ์ที่สะอาดและทันสมัย โดยรวมแล้วให้ความรู้สึกเรียบง่ายแต่มีความซับซ้อน ทำให้เหมาะสำหรับการใช้งานภายในที่หลากหลาย\n",
      "  ID: LtwwyZcBZASVAhmA2eGi SKU: Z21GXB31010213C1 Name: WT BRICKA MODERN(II) GREY 8X12 PM, Description: The tile image features a pattern of alternating horizontal rectangles in varying shades of gray, beige, and white. Some rectangles have vertical stripes, while others have diagonal stripes, adding texture and visual interest. The surface appears smooth and matte. Overall, the design is simple and modern, suitable for creating a subtle and sophisticated look in interior spaces. / ภาพกระเบื้องแสดงรูปแบบของสี่เหลี่ยมผืนผ้าแนวนอนสลับสีในเฉดสีเทา สีเบจ และสีขาวที่แตกต่างกัน สี่เหลี่ยมผืนผ้าบางส่วนมีลายทางแนวตั้ง ในขณะที่สี่เหลี่ยมผืนผ้าอื่นๆ มีลายทางแนวทแยง ซึ่งเพิ่มพื้นผิวและความน่าสนใจทางสายตา โดยรวมแล้ว การออกแบบเรียบง่ายและทันสมัย เหมาะสำหรับการสร้างรูปลักษณ์ที่ละเอียดอ่อนและซับซ้อนในพื้นที่ภายใน\n",
      "  ID: L9wwyZcBZASVAhmA2-E2 SKU: Z21GXB38010231B1 Name: WT POEM FLOWER (HYG) 25X40 PM, Description: The tile image features a delicate floral pattern with light blue and white flowers on winding branches, set against a soft, swirling beige background. The overall effect is gentle and calming, making it suitable for creating a serene atmosphere. / ภาพกระเบื้องนี้มีลวดลายดอกไม้ที่ละเอียดอ่อนด้วยดอกไม้สีฟ้าอ่อนและสีขาวบนกิ่งก้านที่คดเคี้ยว วางอยู่บนพื้นหลังสีเบจอ่อนที่หมุนวน เอฟเฟกต์โดยรวมมีความอ่อนโยนและสงบ ทำให้เหมาะสำหรับการสร้างบรรยากาศที่เงียบสงบ\n",
      "  ID: IdwwyZcBZASVAhmAvuEb SKU: Z21B1Q991LT16041 Name: LT 23x152 LAMAR LM-SNE01(6.0/0.5mm.)IX, Description: The tile image features a wood-like pattern with a gray color tone. The surface appears to have a slightly textured or matte finish, enhancing the natural look of the wood grain. The overall impression is one of understated elegance and rustic charm./ ภาพกระเบื้องแสดงลวดลายคล้ายไม้ที่มีโทนสีเทา พื้นผิวดูเหมือนจะมีพื้นผิวที่ขรุขระเล็กน้อยหรือด้าน ซึ่งช่วยเพิ่มรูปลักษณ์ที่เป็นธรรมชาติของลายไม้ ความประทับใจโดยรวมคือความสง่างามที่เรียบง่ายและเสน่ห์แบบชนบท\n",
      "  ID: H9wwyZcBZASVAhmAueFN SKU: Z21B0Q991BVES021 Name: BV 15.2x91.4 SAND OAK 789(2.0/0.2)ES, Description: The tile image features a wood-like surface with a light brown color and natural wood grain patterns. The surface appears to have a matte finish, giving it a natural and rustic look. The overall impression is one of warmth and organic texture, making it suitable for creating a cozy and inviting atmosphere./ ภาพกระเบื้องแสดงพื้นผิวคล้ายไม้ที่มีสีน้ำตาลอ่อนและลวดลายลายไม้ธรรมชาติ พื้นผิวดูเหมือนจะมีผิวเคลือบด้าน ทำให้มีรูปลักษณ์ที่เป็นธรรมชาติและเรียบง่าย ความประทับใจโดยรวมคือความอบอุ่นและพื้นผิวออร์แกนิก ทำให้เหมาะสำหรับการสร้างบรรยากาศที่อบอุ่นและน่าดึงดูดใจ\n",
      "  ID: INwwyZcBZASVAhmAu-EF SKU: Z21B1Q991LT15811 Name: LT 23X152 LIDIA LM-SNE02 (6.0/0.5mm.)IX, Description: The tile image features a dark brown wood grain pattern, giving it a natural and rustic appearance. The surface has a slightly textured feel, enhancing the wood-like effect. The color is deep and rich, making it suitable for creating a warm and inviting atmosphere./ ภาพกระเบื้องแสดงลวดลายไม้สีน้ำตาลเข้ม ให้รูปลักษณ์ที่เป็นธรรมชาติและเรียบง่าย พื้นผิวมีความรู้สึกเป็นรอยเล็กน้อย ซึ่งช่วยเพิ่มเอฟเฟกต์คล้ายไม้ สีมีความลึกและเข้มข้น ทำให้เหมาะสำหรับการสร้างบรรยากาศที่อบอุ่นและน่าดึงดูด\n",
      "  ID: J9wwyZcBZASVAhmAzOEJ SKU: Z21GXA40100021B1 Name: FT MERLILYN SATIN WHITE 12X12 PM, Description: Based on the image, it appears to be a plain white tile, possibly with a smooth or slightly textured surface. The color is uniform, suggesting a matte or satin finish. It gives a clean and simple impression./ จากภาพ ดูเหมือนจะเป็นกระเบื้องสีขาวธรรมดา อาจมีพื้นผิวเรียบหรือมีพื้นผิวเล็กน้อย สีมีความสม่ำเสมอ บ่งบอกถึงพื้นผิวด้านหรือซาติน ให้ความรู้สึกที่สะอาดตาและเรียบง่าย\n",
      "  ID: KNwwyZcBZASVAhmAzeH0 SKU: Z21GXA40100021C1 Name: FT BELLINGEN (II) WHITE 12X12 PM, Description: The tile image features a light gray, slightly textured surface, giving it a subtle, understated appearance. The texture is not overly pronounced, providing a smooth yet tactile feel. This tile would be suitable for creating a clean and modern look in various interior spaces./ ภาพกระเบื้องแสดงพื้นผิวสีเทาอ่อนที่มีลวดลายเล็กน้อย ทำให้มีลักษณะที่ละเอียดอ่อนและไม่เด่นชัด พื้นผิวไม่ได้เน้นมากเกินไป ให้ความรู้สึกที่เรียบเนียนแต่สัมผัสได้ กระเบื้องนี้เหมาะสำหรับการสร้างรูปลักษณ์ที่สะอาดและทันสมัยในพื้นที่ภายในต่างๆ\n",
      "  ID: HdwwyZcBZASVAhmAtOHJ SKU: Z21B0Q991BVES001 Name: BV 15.2x91.4 SUMMER OAK123(2.0/0.2 mm)ES, Description: The tile image features a wood-like surface with a light brown color. The surface has a detailed wood grain pattern, giving it a natural and realistic appearance. The tile seems to have a matte finish, which enhances the texture and reduces glare./ ภาพกระเบื้องแสดงพื้นผิวคล้ายไม้สีน้ำตาลอ่อน พื้นผิวมีลวดลายลายไม้ที่ละเอียด ทำให้ดูเป็นธรรมชาติและสมจริง กระเบื้องดูเหมือนจะมีผิวเคลือบด้าน ซึ่งช่วยเพิ่มพื้นผิวและลดแสงสะท้อน\n",
      "  ID: HtwwyZcBZASVAhmAtuFf SKU: Z21B0Q991BVES011 Name: BV 15.2x91.4 SUNNY OAK 456(2.0/0.2 mm)ES, Description: The tile image features a wood-like surface with a brown color tone. The surface has a natural wood grain pattern, giving it a rustic and warm appearance. The texture appears to be slightly rough, enhancing the realistic wood effect./ ภาพกระเบื้องแสดงพื้นผิวคล้ายไม้ที่มีโทนสีน้ำตาล พื้นผิวมีลวดลายลายไม้ธรรมชาติ ทำให้มีรูปลักษณ์ที่เรียบง่ายและอบอุ่น พื้นผิวดูเหมือนจะขรุขระเล็กน้อย ซึ่งช่วยเพิ่มเอฟเฟกต์ไม้ที่สมจริง\n",
      "  ID: JdwwyZcBZASVAhmAx-GG SKU: Z21GXA29100188B1 Name: FT/WT ECO-TERRA TERRACOTTA 20X20 PM, Description: The tile features a consistent brown color with a slightly rough surface, giving it a natural and earthy appearance. The texture is subtle, with minor variations in tone that add depth and character to the tile. It appears durable and suitable for various interior applications./ กระเบื้องมีสีน้ำตาลสม่ำเสมอพร้อมพื้นผิวที่ขรุขระเล็กน้อย ทำให้มีรูปลักษณ์ที่เป็นธรรมชาติและเหมือนดิน พื้นผิวมีความละเอียดอ่อน โดยมีการเปลี่ยนแปลงเล็กน้อยในโทนสีที่เพิ่มความลึกและลักษณะเฉพาะให้กับกระเบื้อง ดูทนทานและเหมาะสำหรับการใช้งานภายในต่างๆ\n",
      "  ID: JtwwyZcBZASVAhmAyeFP SKU: Z21GXA29100210B1 Name: FT/WT ECO-TERRA VISTA (MIX) 20X20 PM, Description: The tile features a symmetrical design with a blend of floral and geometric elements. The color palette includes muted blue and brown tones set against a light background, giving it a vintage or rustic appearance. The surface has a slightly textured look, which adds to its tactile appeal.\n",
      "/ กระเบื้องมีการออกแบบที่สมมาตรด้วยการผสมผสานระหว่างองค์ประกอบลายดอกไม้และเรขาคณิต โทนสีประกอบด้วยสีน้ำเงินและสีน้ำตาลที่ปิดเสียงซึ่งตัดกับพื้นหลังสีอ่อนทำให้มีรูปลักษณ์แบบวินเทจหรือแบบชนบท พื้นผิวมีลักษณะเป็นพื้นผิวเล็กน้อยซึ่งเพิ่มความน่าดึงดูด\n",
      "  ID: M9wwyZcBZASVAhmA4OGn SKU: Z21UXA48100021J1 Name: FT MALAWI MARBLE MATT R/T 40X40 PM, Description: The tile image features a predominantly white surface with subtle gray veining, resembling the appearance of natural marble. The veining is delicate and dispersed, adding depth and visual interest to the tile. The surface appears smooth and possibly polished, enhancing the reflective qualities of the material./ ภาพกระเบื้องแสดงพื้นผิวสีขาวเป็นส่วนใหญ่ มีเส้นสายสีเทาอ่อนๆ คล้ายกับลักษณะของหินอ่อนธรรมชาติ เส้นสายมีความละเอียดอ่อนและกระจายตัว เพิ่มความลึกและความน่าสนใจให้กับกระเบื้อง พื้นผิวดูเรียบเนียนและอาจขัดเงา ซึ่งช่วยเพิ่มคุณสมบัติการสะท้อนแสงของวัสดุ\n",
      "  ID: NNwwyZcBZASVAhmA4eH8 SKU: Z21UXA48100151J1 Name: FT TOYBOX WHITE R/T 40X40 PM, Description: The tile image features a grid pattern with a light gray grout against a white tile surface. The tiles appear to be square and have a subtle texture, giving them a slightly matte finish. The overall impression is clean and simple, suitable for a variety of interior design applications. / ภาพกระเบื้องแสดงรูปแบบตารางที่มียาแนวสีเทาอ่อนตัดกับพื้นผิวกระเบื้องสีขาว กระเบื้องดูเหมือนจะเป็นรูปสี่เหลี่ยมจัตุรัสและมีพื้นผิวที่ละเอียดอ่อน ทำให้มีผิวเคลือบด้านเล็กน้อย ความประทับใจโดยรวมคือความสะอาดและเรียบง่าย เหมาะสำหรับการใช้งานออกแบบภายในที่หลากหลาย\n",
      "  ID: NdwwyZcBZASVAhmA4-E3 SKU: Z21UXA48100161J1 Name: FT TOYBOX MIX R/T 40X40 PM, Description: The tile image features a geometric pattern with various shapes and colors on a white grid background. The shapes include circles, triangles, and irregular polygons in colors such as black, pink, yellow, gray, green, and blue. The surface of the shapes appears to have a slightly textured or grainy finish, adding depth to the design./ กระเบื้องนี้มีลวดลายเรขาคณิตที่มีรูปร่างและสีต่างๆ บนพื้นหลังตารางสีขาว รูปร่างประกอบด้วยวงกลม สามเหลี่ยม และรูปหลายเหลี่ยมที่ผิดปกติในสีต่างๆ เช่น ดำ ชมพู เหลือง เทา เขียว และน้ำเงิน พื้นผิวของรูปร่างดูเหมือนจะมีพื้นผิวที่ขรุขระเล็กน้อย เพิ่มความลึกให้กับดีไซน์\n",
      "  ID: NtwwyZcBZASVAhmA5OHc SKU: Z21UXA48100223D1 Name: FT ASANO GREY 16x16 PM, Description: The tile features a geometric star pattern in varying shades of gray, creating a visually appealing contrast. The surface has a slightly textured appearance, adding depth and interest to the design. The overall effect is modern and sophisticated, suitable for a variety of interior and exterior applications./ กระเบื้องมีลวดลายดาวเรขาคณิตในเฉดสีเทาที่แตกต่างกัน สร้างความแตกต่างที่ดึงดูดสายตา พื้นผิวมีลักษณะเป็นพื้นผิวเล็กน้อย เพิ่มความลึกและความน่าสนใจให้กับการออกแบบ โดยรวมแล้วให้ความรู้สึกทันสมัยและซับซ้อน เหมาะสำหรับการใช้งานภายในและภายนอกที่หลากหลาย\n",
      "  ID: N9wwyZcBZASVAhmA5uGf SKU: Z21UXA48100373D1 Name: FT ALCHEMIST WHITE 16x16 PM, Description: The tile image features a collection of nine different patterns arranged in a 3x3 grid. Each pattern is predominantly white with light gray accents, creating a soft, muted contrast. The patterns range from floral motifs and geometric shapes to more intricate, ornamental designs. The surface appears to be smooth and matte, giving the tiles a subtle, understated elegance. Overall, the image evokes a sense of classic, refined style with a touch of vintage charm.\n",
      "/ รูปภาพกระเบื้องแสดงคอลเล็กชันของลวดลายที่แตกต่างกันเก้าแบบที่จัดเรียงในตาราง 3x3 แต่ละลวดลายเป็นสีขาวเป็นส่วนใหญ่โดยมีสีเทาอ่อนเป็นส่วนประกอบ สร้างความคมชัดที่นุ่มนวลและปิดเสียง ลวดลายมีตั้งแต่ลวดลายดอกไม้และรูปทรงเรขาคณิตไปจนถึงการออกแบบที่ประณีตและเป็นลวดลายมากขึ้น พื้นผิวดูเรียบและด้าน ทำให้กระเบื้องมีความสง่างามที่ละเอียดอ่อนและเรียบง่าย โดยรวมแล้ว ภาพนี้สื่อถึงความรู้สึกของสไตล์คลาสสิกและประณีต พร้อมด้วยเสน่ห์แบบวินเทจ\n",
      "  ID: ONwwyZcBZASVAhmA6OEZ SKU: Z21UXA51100033A1 Name: FT CHEVRON MARBLE (SATIN) 45x45 PM, Description: The tile image features a herringbone pattern in varying shades of white and gray, creating a subtle yet sophisticated visual texture. The surface appears to have a marble-like finish, adding a touch of elegance and luxury. The overall effect is clean and modern, making it suitable for a variety of interior design applications./ ภาพกระเบื้องแสดงลวดลายก้างปลาในเฉดสีขาวและเทาที่แตกต่างกัน สร้างพื้นผิวที่มองเห็นได้ที่ละเอียดอ่อนแต่มีความซับซ้อน พื้นผิวดูเหมือนจะมีการเคลือบคล้ายหินอ่อน เพิ่มความสง่างามและความหรูหรา เอฟเฟกต์โดยรวมนั้นสะอาดและทันสมัย ทำให้เหมาะสำหรับการใช้งานออกแบบภายในที่หลากหลาย\n",
      "  ID: OdwwyZcBZASVAhmA6eFg SKU: Z21UXA51100041D1 Name: FT DAYNIE (II) WHITE 18X18 PM, Description: The tile image features a white surface with gray veining, resembling marble. The veining pattern is intricate and adds depth to the tile's appearance. The overall impression is clean and elegant, making it suitable for various interior design applications./ ภาพกระเบื้องแสดงพื้นผิวสีขาวที่มีเส้นสายสีเทาคล้ายหินอ่อน ลวดลายเส้นสายมีความซับซ้อนและเพิ่มความลึกให้กับลักษณะที่ปรากฏของกระเบื้อง ความประทับใจโดยรวมคือความสะอาดและสง่างาม ทำให้เหมาะสำหรับการใช้งานออกแบบภายในที่หลากหลาย\n",
      "  ID: OtwwyZcBZASVAhmA6uGj SKU: Z21UXA51100191D1 Name: FT MARBLE PRIMA SQUARE (SATIN) 45X45 PM, Description: The tile image features a geometric pattern with alternating square tiles set diagonally. Some tiles have a marble-like appearance with white and gray veining, while others have a white surface with a subtle, dotted texture. The overall effect is clean and modern, with a sophisticated and slightly textured look./ ภาพกระเบื้องแสดงรูปแบบทางเรขาคณิต โดยมีกระเบื้องสี่เหลี่ยมจัตุรัสสลับกันในแนวทแยงมุม กระเบื้องบางส่วนมีลักษณะคล้ายหินอ่อนโดยมีเส้นสีขาวและสีเทา ในขณะที่กระเบื้องอื่นๆ มีพื้นผิวสีขาวที่มีพื้นผิวเป็นจุดๆ ที่ละเอียดอ่อน ลักษณะโดยรวมคือความสะอาดและทันสมัย ​​พร้อมรูปลักษณ์ที่ซับซ้อนและมีพื้นผิวเล็กน้อย\n"
     ]
    }
   ],
   "source": [
    "count = es_client.count(index=index_name)['count']\n",
    "print(f\"data rows: {count}\")\n",
    "\n",
    "for hit in helpers.scan(es_client, index=index_name):\n",
    "    print(f\"  ID: {hit['_id']} SKU: {hit['_source'].get('SKU')} Name: {hit['_source'].get('Name')}, Description: {hit['_source'].get('description')}\")"
   ]
  },
  {
   "cell_type": "markdown",
   "metadata": {},
   "source": [
    "### Delete INDEX"
   ]
  },
  {
   "cell_type": "code",
   "execution_count": 10,
   "metadata": {},
   "outputs": [],
   "source": [
    "# if es_client.indices.exists(index=index_name):\n",
    "#     es_client.indices.delete(index=index_name)\n",
    "#     print(f\"Index {index_name} deleted.\")\n",
    "# else:\n",
    "#     print(f\"Index {index_name} does not exist.\")"
   ]
  },
  {
   "cell_type": "markdown",
   "metadata": {},
   "source": [
    "### Query test (keyword search and vector search)"
   ]
  },
  {
   "cell_type": "code",
   "execution_count": 12,
   "metadata": {},
   "outputs": [
    {
     "name": "stdout",
     "output_type": "stream",
     "text": [
      "  ID: J9wwyZcBZASVAhmAzOEJ SKU: Z21GXA40100021B1, Name: FT MERLILYN SATIN WHITE 12X12 PM Score: 14.18\n",
      "  ID: ItwwyZcBZASVAhmAv-GI SKU: Z21GXA29100147B1, Name: FT/WT ECO-TERRA BONE 20X20 PM Score: 8.39\n",
      "  ID: JNwwyZcBZASVAhmAxOFn SKU: Z21GXA29100173B1, Name: FT/WT ECO-TERRA GREY 20X20 PM Score: 7.40\n",
      "  ID: MtwwyZcBZASVAhmA3-FF SKU: Z21UXA48100009A1, Name: FT LATTICE CHARCOAL GREY 16x16 PM Score: 6.92\n",
      "  ID: KtwwyZcBZASVAhmA0uF1 SKU: Z21GXA40100146C1, Name: FT VILLE (II) IVORY 12x12 PM Score: 5.20\n"
     ]
    }
   ],
   "source": [
    "query_text_semantic1 = \"กระเบื้องplainสไตล์ Minimalist\"\n",
    "query_vec_semantic2 = generate_embedding(query_text_semantic1)\n",
    "\n",
    "response = es_client.search(index=index_name, body={\n",
    "    \"knn\": {\n",
    "    \"field\": \"embedding\",\n",
    "    \"query_vector\": query_vec_semantic2,\n",
    "    \"k\": 5,\n",
    "    \"num_candidates\": 10,\n",
    "    },\n",
    "    \"query\": {\n",
    "        \"multi_match\": {\n",
    "            \"query\": query_text_semantic1,\n",
    "            \"fields\": [\"description\", \n",
    "                       \"description.thai\", \n",
    "                       \"description.standard\",\n",
    "                       \"style^1.5\",\n",
    "                       \"Color\",\n",
    "                       \"Surface_applicability\",\n",
    "                       \"Species^2\"],\n",
    "            \"type\": \"most_fields\"\n",
    "        }\n",
    "    },\n",
    "    \"size\": 5,\n",
    "    \"_source\": [\"SKU\",\"Name\",\"Surface_applicability\",\"description\", \"Color\",\"style\",\"Species\"]\n",
    "})\n",
    "for hit in response['hits']['hits']:\n",
    "    print(f\"  ID: {hit['_id']} SKU: {hit['_source']['SKU']}, Name: {hit['_source']['Name']} Score: {hit['_score']:.2f}\")"
   ]
  },
  {
   "cell_type": "code",
   "execution_count": null,
   "metadata": {},
   "outputs": [],
   "source": []
  }
 ],
 "metadata": {
  "kernelspec": {
   "display_name": "ds",
   "language": "python",
   "name": "python3"
  },
  "language_info": {
   "codemirror_mode": {
    "name": "ipython",
    "version": 3
   },
   "file_extension": ".py",
   "mimetype": "text/x-python",
   "name": "python",
   "nbconvert_exporter": "python",
   "pygments_lexer": "ipython3",
   "version": "3.13.5"
  }
 },
 "nbformat": 4,
 "nbformat_minor": 2
}
